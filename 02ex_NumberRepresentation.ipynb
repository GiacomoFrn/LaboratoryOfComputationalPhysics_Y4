{
 "cells": [
  {
   "cell_type": "markdown",
   "metadata": {},
   "source": [
    "1\\. Write a function that converts number representation (bin<->dec<->hex)"
   ]
  },
  {
   "cell_type": "code",
   "execution_count": 27,
   "metadata": {},
   "outputs": [
    {
     "name": "stdout",
     "output_type": "stream",
     "text": [
      "10000010\n",
      "130\n",
      "82\n",
      "130\n",
      "82\n",
      "10000010\n"
     ]
    }
   ],
   "source": [
    "def dec_to_bin(x):\n",
    "    str_res = \"\"\n",
    "    while (x!=0):\n",
    "        res = str(x%2)\n",
    "        str_res += res\n",
    "        x = x//2\n",
    "    return str_res[::-1]\n",
    "\n",
    "def bin_to_dec(x):\n",
    "    x = x[::-1]\n",
    "    res = 0\n",
    "    for i in range(len(x)):\n",
    "         res += int(x[i])*2**i\n",
    "    return res\n",
    "\n",
    "hex_dict={0:\"0\", 1:\"1\", 2:\"2\", 3:\"3\", 4:\"4\", 5:\"5\", 6:\"6\", 7:\"7\", 8:\"8\", 9:\"9\",10:\"a\", 11:\"b\", 12:\"c\", 13:\"c\", 14:\"d\", 15:\"e\"}\n",
    "\n",
    "def dec_to_hex(x):\n",
    "    str_res = \"\"\n",
    "    while (x!=0):\n",
    "        res = x%16\n",
    "        str_res += str(hex_dict[res])\n",
    "        x = x//16\n",
    "    return str_res[::-1]\n",
    "\n",
    "rev_hex_dict = {value:key for (key,value) in hex_dict.items()}\n",
    "\n",
    "def hex_to_dec(x):\n",
    "    x = x[::-1]\n",
    "    res = 0\n",
    "    for i in range(len(x)):\n",
    "         res += rev_hex_dict[x[i]]*16**i\n",
    "    return res\n",
    "\n",
    "def bin_to_hex(x):\n",
    "    return dec_to_hex(bin_to_dec(x))\n",
    "\n",
    "def hex_to_bin(x):\n",
    "    return dec_to_bin(hex_to_dec(x))\n",
    "\n",
    "print(dec_to_bin(130))\n",
    "print(bin_to_dec(\"10000010\"))\n",
    "print(dec_to_hex(130))\n",
    "print(hex_to_dec(\"82\"))\n",
    "print(bin_to_hex(\"10000010\"))\n",
    "print(hex_to_bin(\"82\"))"
   ]
  },
  {
   "cell_type": "markdown",
   "metadata": {},
   "source": [
    "2\\. Write a function that converts a 32 bit word into a single precision floating point (i.e. interprets the various bits as sign, mantissa and exponent)"
   ]
  },
  {
   "cell_type": "code",
   "execution_count": 39,
   "metadata": {},
   "outputs": [
    {
     "name": "stdout",
     "output_type": "stream",
     "text": [
      "single precision:  00111110001000000000000000000000 converted:  0.15625\n"
     ]
    }
   ],
   "source": [
    "float32 =\"00111110001000000000000000000000\"\n",
    "\n",
    "sign = int(float32[0])\n",
    "exponent = float32[1:9]\n",
    "mantissa = float32[9:]\n",
    "\n",
    "decimal_part = 1\n",
    "for i in range(1,24):\n",
    "    decimal_part += int(mantissa[i-1])*2**(-i)\n",
    "    \n",
    "result = (-1)**(sign)*2**(bin_to_dec(exponent)-127)*decimal_part\n",
    "print( \"single precision: \", float32, \"converted: \", result)"
   ]
  },
  {
   "cell_type": "markdown",
   "metadata": {},
   "source": [
    "3\\. Write a program to determine the underflow and overflow limits (within a factor of 2) for python on your computer. \n",
    "\n",
    "**Tips**: define two variables inizialized to 1 and halve/double them enough time to exceed the under/over-flow limits  "
   ]
  },
  {
   "cell_type": "code",
   "execution_count": 164,
   "metadata": {},
   "outputs": [
    {
     "name": "stdout",
     "output_type": "stream",
     "text": [
      "Overflow limit:  8.98846567431158e+307\n"
     ]
    }
   ],
   "source": [
    "previousprevious = 0\n",
    "previous = 0\n",
    "current  = 1. \n",
    "\n",
    "while(current > previous):\n",
    "    previousprevious = previous\n",
    "    previous = current\n",
    "    current *= 2\n",
    "\n",
    "print(\"Overflow limit: \", previousprevious)    "
   ]
  },
  {
   "cell_type": "code",
   "execution_count": 163,
   "metadata": {},
   "outputs": [
    {
     "name": "stdout",
     "output_type": "stream",
     "text": [
      "Underflow limit:  5e-324\n"
     ]
    }
   ],
   "source": [
    "previousprevious = 0\n",
    "previous = 2\n",
    "current  = 1.\n",
    "\n",
    "while(current < previous):\n",
    "    previousprevious = previous\n",
    "    previous = current\n",
    "    current /= 2\n",
    "\n",
    "print(\"Underflow limit: \", previousprevious)    "
   ]
  },
  {
   "cell_type": "markdown",
   "metadata": {},
   "source": [
    "4\\. Write a program to determine the machine precision\n",
    "\n",
    "**Tips**: define a new variable by adding a smaller and smaller value (proceeding similarly to prob. 2) to an original variable and check the point where the two are the same "
   ]
  },
  {
   "cell_type": "code",
   "execution_count": 160,
   "metadata": {},
   "outputs": [
    {
     "name": "stdout",
     "output_type": "stream",
     "text": [
      "The machine precision is of:  1e-16\n"
     ]
    }
   ],
   "source": [
    "previous = 0\n",
    "current  = 1\n",
    "add = 3\n",
    "\n",
    "while( current != previous ):\n",
    "    previous = current\n",
    "    add /= 2\n",
    "    current += add\n",
    "    \n",
    "print(\"The machine precision is of: \", 10**(np.floor(np.log10(add))))"
   ]
  },
  {
   "cell_type": "markdown",
   "metadata": {},
   "source": [
    "5\\. Write a function that takes in input three parameters $a$, $b$ and $c$ and prints out the two solutions to the quadratic equation $ax^2+bx+c=0$ using the standard formula:\n",
    "$$\n",
    "x=\\frac{-b\\pm\\sqrt{b^2-4ac}}{2a}\n",
    "$$\n",
    "\n",
    "(a) use the program to compute the solution for $a=0.001$, $b=1000$ and $c=0.001$\n",
    "\n",
    "(b) re-express the standard solution formula by multiplying top and bottom by $-b\\mp\\sqrt{b^2-4ac}$ and again find the solution for $a=0.001$, $b=1000$ and $c=0.001$. How does it compare with what previously obtained? Why?\n",
    "\n",
    "(c) write a function that compute the roots of a quadratic equation accurately in all cases"
   ]
  },
  {
   "cell_type": "code",
   "execution_count": 123,
   "metadata": {},
   "outputs": [
    {
     "name": "stdout",
     "output_type": "stream",
     "text": [
      "First case\n",
      "x1 =  -9.999894245993346e-07 x2 =  -999999.999999 \n",
      " ax1^2+bx1+c= 1.0575401665491313e-08 \n",
      " ax2^2+bx2+c= 7.247924804689582e-08\n",
      "\n",
      " Second case\n",
      "x1 =  -1.000000000001e-06 x2 =  -1000010.5755125057 \n",
      " ax1^2+bx1+c= 0.0 \n",
      " ax2^2+bx2+c= 10575.62534720993\n",
      "\n",
      " Optimal case\n",
      "x1 =  -1.000000000001e-06 x2 =  -999999.999999 \n",
      " ax1^2+bx1+c= 0.0 \n",
      " ax2^2+bx2+c= 7.247924804689582e-08\n"
     ]
    }
   ],
   "source": [
    "import numpy as np\n",
    "def rootFinder(a, b, c):\n",
    "    x1 = (-b+np.sqrt(b**2-4*a*c))/(2*a)\n",
    "    x2 = (-b-np.sqrt(b**2-4*a*c))/(2*a)\n",
    "    return x1, x2\n",
    "\n",
    "def rootFinder1(a, b, c):\n",
    "    x1 = 2*c/(-b-np.sqrt(b**2-4*a*c))\n",
    "    x2 = 2*c/(-b+np.sqrt(b**2-4*a*c))\n",
    "    return x1, x2\n",
    "\n",
    "def rootFinder2(a, b, c):\n",
    "    x1 = 2*c/(-b-np.sqrt(b**2-4*a*c))\n",
    "    x2 = (-b-np.sqrt(b**2-4*a*c))/(2*a)\n",
    "    return x1, x2\n",
    "\n",
    "def compPol(a, b, c, x):\n",
    "    return a*x**2+b*x+c\n",
    "\n",
    "a,b,c = 0.001, 1000, 0.001\n",
    "x1, x2 = rootFinder(0.001, 1000, 0.001)\n",
    "print(\"First case\")\n",
    "print(\"x1 = \", x1,\"x2 = \", x2, \"\\n ax1^2+bx1+c=\", compPol(a, b, c, x1), \"\\n ax2^2+bx2+c=\", compPol(a, b, c, x2) )\n",
    "\n",
    "print(\"\\n Second case\")\n",
    "x1, x2 = rootFinder1(0.001, 1000, 0.001)\n",
    "print(\"x1 = \", x1,\"x2 = \", x2, \"\\n ax1^2+bx1+c=\", compPol(a, b, c, x1), \"\\n ax2^2+bx2+c=\", compPol(a, b, c, x2) )\n",
    "\n",
    "print(\"\\n Optimal case\")\n",
    "x1, x2 = rootFinder2(0.001, 1000, 0.001)\n",
    "print(\"x1 = \", x1,\"x2 = \", x2, \"\\n ax1^2+bx1+c=\", compPol(a, b, c, x1), \"\\n ax2^2+bx2+c=\", compPol(a, b, c, x2) )"
   ]
  },
  {
   "cell_type": "markdown",
   "metadata": {},
   "source": [
    "b) In the second case x1 is computed exactly, instead x2 is clearly worst than the result obtained in the first case. This is due to the fact that, using the formulas $x_1 =\\frac{-b+\\sqrt{b^2-4ac}}{2a}$ in the first case and $x_2 =\\frac{2c}{-b+\\sqrt{b^2-4ac}}$, we are getting into roundoff errors. ( Just take the limit for b >> a,c ). \n",
    "\n",
    "The optimal solution use the First case formula for x2 and the second case formula for x1, avoiding roundoff errors."
   ]
  },
  {
   "cell_type": "markdown",
   "metadata": {},
   "source": [
    "6\\. Write a program that implements the function $f(x)=x(x−1)$\n",
    "\n",
    "(a) Calculate the derivative of the function at the point $x = 1$ using the derivative definition:\n",
    "\n",
    "$$\n",
    "\\frac{{\\rm d}f}{{\\rm d}x} = \\lim_{\\delta\\to0} \\frac{f(x+\\delta)-f(x)}{\\delta}\n",
    "$$\n",
    "\n",
    "with $\\delta = 10^{−2}$. Calculate the true value of the same derivative analytically and compare with the answer your program gives. The two will not agree perfectly. Why not?\n",
    "\n",
    "(b) Repeat the calculation for $\\delta = 10^{−4}, 10^{−6}, 10^{−8}, 10^{−10}, 10^{−12}$ and $10^{−14}$. How does the accuracy scales with $\\delta$?"
   ]
  },
  {
   "cell_type": "code",
   "execution_count": 122,
   "metadata": {},
   "outputs": [
    {
     "name": "stdout",
     "output_type": "stream",
     "text": [
      "0.01 1.010000000000001 1\n",
      "0.0001 1.0000999999998899 1\n",
      "1e-06 1.0000009999177333 1\n",
      "1e-08 1.0000000039225287 1\n",
      "1e-10 1.000000082840371 1\n",
      "1e-12 1.0000889005833413 1\n",
      "1e-14 0.9992007221626509 1\n"
     ]
    },
    {
     "data": {
      "text/plain": [
       "[<matplotlib.lines.Line2D at 0x7fd1ec79afd0>]"
      ]
     },
     "execution_count": 122,
     "metadata": {},
     "output_type": "execute_result"
    },
    {
     "data": {
      "image/png": "[encoded data removed]",
      "text/plain": [
       "<Figure size 432x288 with 1 Axes>"
      ]
     },
     "metadata": {
      "needs_background": "light"
     },
     "output_type": "display_data"
    }
   ],
   "source": [
    "delta = 10**-2\n",
    "\n",
    "def f(x):\n",
    "    return x*(x-1)\n",
    "\n",
    "def df(x):\n",
    "    return 2*x-1\n",
    "\n",
    "trueDer = []\n",
    "anDer   = []\n",
    "deltas  = []\n",
    "for i in range(7):\n",
    "    x = 1\n",
    "    derivative = (f(x+delta)-f(x))/delta\n",
    "    print(delta, derivative, df(x))\n",
    "    trueDer.append(df(x))\n",
    "    anDer.append(derivative)\n",
    "    deltas.append(delta)\n",
    "    delta /= 10**2\n",
    "    \n",
    "from matplotlib import pyplot as plt\n",
    "plt.xscale('log')\n",
    "plt.plot(deltas, abs(np.array(anDer)-np.array(trueDer)), \"rx\")"
   ]
  },
  {
   "cell_type": "markdown",
   "metadata": {},
   "source": [
    "It's evident that the two derivatives will not agree perfectly due to the discretization of $\\delta$, the intersting fact is that we will expect an increasing accuracy for smaller $\\delta$ but that's not what we observe. In fact, as $\\delta$ becomes smaller, the function $\\frac{f(x+\\delta)-f(x)}{\\delta}$ becomes poorly conditioned, i.e. big variations in output for small input variation."
   ]
  },
  {
   "cell_type": "markdown",
   "metadata": {},
   "source": [
    "7\\. Consider the integral of the semicircle of radius 1:\n",
    "$$\n",
    "I=\\int_{-1}^{1} \\sqrt(1-x^2) {\\rm d}x\n",
    "$$\n",
    "which it's known to be $I=\\frac{\\pi}{2}=1.57079632679...$.\n",
    "Alternatively we can use the Riemann definition of the integral:\n",
    "$$\n",
    "I=\\lim_{N\\to\\infty} \\sum_{k=1}^{N} h y_k \n",
    "$$\n",
    "\n",
    "with $h=2/N$ the width of each of the $N$ slices the domain is divided into and where\n",
    "$y_k$ is the value of the function at the $k-$th slice.\n",
    "\n",
    "(a) Write a programe to compute the integral with $N=100$. How does the result compares to the true value?\n",
    "\n",
    "(b) How much can $N$ be increased if the computation needs to be run in less than a second? What is the gain in running it for 1 minute? \n"
   ]
  },
  {
   "cell_type": "code",
   "execution_count": 134,
   "metadata": {},
   "outputs": [
    {
     "name": "stdout",
     "output_type": "stream",
     "text": [
      "Riemann integral:  1.5691342555492493 | Accuracy:  0.10581074180626304 %\n"
     ]
    }
   ],
   "source": [
    "def f(x):\n",
    "    return np.sqrt(abs(1-x**2))\n",
    "\n",
    "def RiemannInt(N, h, x_i):\n",
    "    sum_ = 0\n",
    "    x = x_i\n",
    "    for n in range(1, N+1):\n",
    "        sum_ += h*f(x)\n",
    "        x += h\n",
    "    return sum_\n",
    " \n",
    "N = 100\n",
    "h = 2/N\n",
    "x_i = -1\n",
    "\n",
    "sum_ = RiemannInt(N, h, x_i)\n",
    "print(\"Riemann integral: \", sum_, \"| Accuracy: \", abs(sum_-np.pi/2)/(np.pi/2)*100, \"%\")"
   ]
  },
  {
   "cell_type": "code",
   "execution_count": 149,
   "metadata": {},
   "outputs": [
    {
     "name": "stdout",
     "output_type": "stream",
     "text": [
      "76.8 µs ± 1.65 µs per loop (mean ± std. dev. of 7 runs, 10000 loops each)\n",
      "7.42 ms ± 102 µs per loop (mean ± std. dev. of 7 runs, 100 loops each)\n",
      "793 ms ± 20.8 ms per loop (mean ± std. dev. of 7 runs, 1 loop each)\n",
      "1.55 s ± 24.1 ms per loop (mean ± std. dev. of 7 runs, 1 loop each)\n"
     ]
    }
   ],
   "source": [
    "%timeit RiemannInt(N, h, x_i)\n",
    "%timeit RiemannInt(N**2, h, x_i)\n",
    "%timeit RiemannInt(N**3, h, x_i)\n",
    "%timeit RiemannInt(N**3*2, h, x_i)"
   ]
  },
  {
   "cell_type": "code",
   "execution_count": 150,
   "metadata": {},
   "outputs": [
    {
     "name": "stdout",
     "output_type": "stream",
     "text": [
      "max N predicted for computational time under 1s: [1283368.93153354]\n",
      "max N predicted for computational time under 60s: [77233005.0655619]\n"
     ]
    },
    {
     "data": {
      "image/png": "[encoded data removed]",
      "text/plain": [
       "<Figure size 432x288 with 1 Axes>"
      ]
     },
     "metadata": {
      "needs_background": "light"
     },
     "output_type": "display_data"
    }
   ],
   "source": [
    "from sklearn.linear_model import LinearRegression\n",
    "\n",
    "x = [N, N**2, N**3, N**3*2]\n",
    "y = [76.8*10**(-6), 7.42*10**(-3), 793*10**(-3), 1.55 ]\n",
    "x = np.array(x)\n",
    "y = np.array(y).reshape(-1, 1)\n",
    "plt.plot(x,y, \"rx\")\n",
    "\n",
    "reg = LinearRegression().fit(y,x)\n",
    "timeMax = [1]\n",
    "timeMax = np.array(timeMax)\n",
    "print(\"max N predicted for computational time under 1s:\", reg.predict(timeMax.reshape(1,-1)))\n",
    "\n",
    "timeMax = [60]\n",
    "timeMax = np.array(timeMax)\n",
    "print(\"max N predicted for computational time under 60s:\", reg.predict(timeMax.reshape(1,-1)))"
   ]
  },
  {
   "cell_type": "code",
   "execution_count": 157,
   "metadata": {},
   "outputs": [
    {
     "name": "stdout",
     "output_type": "stream",
     "text": [
      "Riemann integral for max N under 1 minute of ex time:  1.5707963260206126 | Accuracy:  4.929244849030035e-08 %\n"
     ]
    }
   ],
   "source": [
    "N = int(reg.predict(timeMax.reshape(1,-1)))\n",
    "sum_ = RiemannInt(N, 2/N, x_i)\n",
    "print(\"Riemann integral for max N under 1 minute of ex time: \", sum_, \"| Accuracy: \", abs(sum_-np.pi/2)/(np.pi/2)*100, \"%\")"
   ]
  },
  {
   "cell_type": "markdown",
   "metadata": {},
   "source": [
    "We calculated the maxNs through a linear regression, the gain in running the algorithm for 1 minute respect to $\\simeq 10^{-5} \\, s$ is of 7 order in accuracy."
   ]
  }
 ],
 "metadata": {
  "hide_input": false,
  "kernelspec": {
   "display_name": "Python 3 (ipykernel)",
   "language": "python",
   "name": "python3"
  },
  "language_info": {
   "codemirror_mode": {
    "name": "ipython",
    "version": 3
   },
   "file_extension": ".py",
   "mimetype": "text/x-python",
   "name": "python",
   "nbconvert_exporter": "python",
   "pygments_lexer": "ipython3",
   "version": "3.9.5"
  }
 },
 "nbformat": 4,
 "nbformat_minor": 2
}
