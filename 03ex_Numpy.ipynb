{
 "cells": [
  {
   "cell_type": "markdown",
   "metadata": {},
   "source": [
    "### Numpy basics"
   ]
  },
  {
   "cell_type": "markdown",
   "metadata": {},
   "source": [
    "1\\. Find the row, column and overall means for the following matrix:\n",
    "\n",
    "```python\n",
    "m = np.arange(12).reshape((3,4))\n",
    "```"
   ]
  },
  {
   "cell_type": "code",
   "execution_count": 36,
   "metadata": {},
   "outputs": [
    {
     "name": "stdout",
     "output_type": "stream",
     "text": [
      "Matrix: \n",
      " [[ 0  1  2  3]\n",
      " [ 4  5  6  7]\n",
      " [ 8  9 10 11]]\n",
      "Row 0 :  [0 1 2 3] mean:  1.5\n",
      "Column 0 :  [0 4 8] mean:  4.0\n",
      "Row 1 :  [4 5 6 7] mean:  5.5\n",
      "Column 1 :  [1 5 9] mean:  5.0\n",
      "Row 2 :  [ 8  9 10 11] mean:  9.5\n",
      "Column 2 :  [ 2  6 10] mean:  6.0\n"
     ]
    }
   ],
   "source": [
    "import numpy as np\n",
    "\n",
    "m = np.arange(12).reshape((3,4))\n",
    "print(\"Matrix: \\n\", m)\n",
    "for i, j in zip(range(m.shape[0]), range(m.shape[1])):\n",
    "    print(\"Row\", i, \": \", m[i, :], \"mean: \", np.mean(m[i,:]))\n",
    "    print(\"Column\", i, \": \", m[:, i], \"mean: \", np.mean(m[:,i]))"
   ]
  },
  {
   "cell_type": "markdown",
   "metadata": {},
   "source": [
    "2\\. Find the outer product of the following two vecotrs\n",
    "\n",
    "```python\n",
    "u = np.array([1,3,5,7])\n",
    "v = np.array([2,4,6,8])\n",
    "```\n",
    "\n",
    "Do this in the following ways:\n",
    "\n",
    "   * Using the function outer in numpy\n",
    "   * Using a nested for loop or list comprehension\n",
    "   * Using numpy broadcasting operations\n"
   ]
  },
  {
   "cell_type": "code",
   "execution_count": 37,
   "metadata": {},
   "outputs": [
    {
     "name": "stdout",
     "output_type": "stream",
     "text": [
      "numpy function outer: \n",
      " [[ 2  4  6  8]\n",
      " [ 6 12 18 24]\n",
      " [10 20 30 40]\n",
      " [14 28 42 56]]\n",
      "list comprehension\n",
      " [[ 2  4  6  8]\n",
      " [ 6 12 18 24]\n",
      " [10 20 30 40]\n",
      " [14 28 42 56]]\n",
      "broadcasting: \n",
      " [[ 2.  4.  6.  8.]\n",
      " [ 6. 12. 18. 24.]\n",
      " [10. 20. 30. 40.]\n",
      " [14. 28. 42. 56.]]\n"
     ]
    }
   ],
   "source": [
    "u = np.array([1,3,5,7])\n",
    "v = np.array([2,4,6,8])\n",
    "\n",
    "# 1\n",
    "\n",
    "print(\"numpy function outer: \\n\", np.outer(u, v))\n",
    "\n",
    "# 2\n",
    "\n",
    "outer = np.array([i*j for i in u for j in v]).reshape(len(u), len(v))\n",
    "print(\"list comprehension\\n\", outer)\n",
    "    \n",
    "# 3\n",
    "\n",
    "print(\"broadcasting: \\n\", np.ones([len(u), len(v)])*v*u.reshape(-1,1))"
   ]
  },
  {
   "cell_type": "markdown",
   "metadata": {},
   "source": [
    "3\\. Create a 10 by 6 matrix of random uniform numbers. Set all rows with any entry less than 0.1 to be zero\n",
    "\n",
    "Hint: Use the following numpy functions - np.random.random, np.any as well as Boolean indexing and the axis argument."
   ]
  },
  {
   "cell_type": "code",
   "execution_count": 43,
   "metadata": {},
   "outputs": [
    {
     "name": "stdout",
     "output_type": "stream",
     "text": [
      "[[1.43486485e-01 5.00721668e-01 3.20055111e-01 4.71245360e-01\n",
      "  2.93783352e-01 7.52340148e-01]\n",
      " [1.13555573e-04 5.63133051e-01 6.56928576e-01 9.42757172e-01\n",
      "  7.27633288e-01 3.09064551e-01]\n",
      " [2.54900336e-01 6.09270687e-02 8.89483605e-01 4.27238349e-01\n",
      "  3.86602318e-01 1.98957548e-01]\n",
      " [2.87679473e-01 4.69682260e-01 2.95562306e-01 8.67970375e-01\n",
      "  5.53037042e-01 6.88007194e-01]\n",
      " [3.61591748e-01 1.76710572e-01 1.84001843e-01 4.75591669e-01\n",
      "  5.21829406e-01 4.11457838e-01]\n",
      " [9.76204096e-01 5.18000809e-01 9.16116681e-01 9.54584447e-01\n",
      "  7.01979092e-02 9.25525147e-01]\n",
      " [6.97234056e-01 6.57579455e-02 3.49951969e-01 1.06262726e-01\n",
      "  5.62153530e-01 7.96341091e-01]\n",
      " [9.05658522e-01 2.27669318e-01 2.56899804e-01 4.53499694e-01\n",
      "  2.38821906e-01 7.31874904e-01]\n",
      " [9.31577061e-01 4.69792962e-01 4.02869916e-01 8.90454876e-01\n",
      "  4.50774397e-02 2.74556109e-01]\n",
      " [9.95881620e-01 7.38227209e-01 5.25760064e-01 7.96586816e-01\n",
      "  9.00225628e-01 4.72546886e-01]]\n",
      "[[0.14348649 0.50072167 0.32005511 0.47124536 0.29378335 0.75234015]\n",
      " [0.         0.56313305 0.65692858 0.94275717 0.72763329 0.30906455]\n",
      " [0.25490034 0.         0.88948361 0.42723835 0.38660232 0.19895755]\n",
      " [0.28767947 0.46968226 0.29556231 0.86797038 0.55303704 0.68800719]\n",
      " [0.36159175 0.17671057 0.18400184 0.47559167 0.52182941 0.41145784]\n",
      " [0.9762041  0.51800081 0.91611668 0.95458445 0.         0.92552515]\n",
      " [0.69723406 0.         0.34995197 0.10626273 0.56215353 0.79634109]\n",
      " [0.90565852 0.22766932 0.2568998  0.45349969 0.23882191 0.7318749 ]\n",
      " [0.93157706 0.46979296 0.40286992 0.89045488 0.         0.27455611]\n",
      " [0.99588162 0.73822721 0.52576006 0.79658682 0.90022563 0.47254689]]\n"
     ]
    }
   ],
   "source": [
    "import numpy.random as npr\n",
    "m = npr.rand(10,6)\n",
    "print(m)\n",
    "m[m < 0.1] = 0\n",
    "print(m)"
   ]
  },
  {
   "cell_type": "markdown",
   "metadata": {},
   "source": [
    "4\\. Use np.linspace to create an array of 100 numbers between 0 and 2π (includsive).\n",
    "\n",
    "  * Extract every 10th element using slice notation\n",
    "  * Reverse the array using slice notation\n",
    "  * Extract elements where the absolute difference between the sine and cosine functions evaluated at that element is less than 0.1\n",
    "  * Make a plot showing the sin and cos functions and indicate where they are close"
   ]
  },
  {
   "cell_type": "code",
   "execution_count": 60,
   "metadata": {},
   "outputs": [
    {
     "data": {
      "image/png": "[encoded data removed]",
      "text/plain": [
       "<Figure size 432x288 with 1 Axes>"
      ]
     },
     "metadata": {
      "needs_background": "light"
     },
     "output_type": "display_data"
    },
    {
     "name": "stdout",
     "output_type": "stream",
     "text": [
      "[0.76159822 0.82506474 3.87145761 3.93492413]\n"
     ]
    }
   ],
   "source": [
    "l = np.linspace(0, 2*np.pi,100)\n",
    "\n",
    "l_reversed = l[::-1]\n",
    "\n",
    "l_extract = l[abs(np.sin(l)-np.cos(l))<0.1]\n",
    "\n",
    "import matplotlib.pyplot as plt\n",
    "plt.plot(l,np.sin(l))\n",
    "plt.plot(l,np.cos(l))\n",
    "plt.vlines(l_extract, -1, 1, colors='r')\n",
    "plt.show()\n",
    "\n",
    "print(l_extract)"
   ]
  },
  {
   "cell_type": "markdown",
   "metadata": {},
   "source": [
    "5\\. Create a matrix that shows the 10 by 10 multiplication table.\n",
    "\n",
    " * Find the trace of the matrix\n",
    " * Extract the anto-diagonal (this should be ```array([10, 18, 24, 28, 30, 30, 28, 24, 18, 10])```)\n",
    " * Extract the diagnoal offset by 1 upwards (this should be ```array([ 2,  6, 12, 20, 30, 42, 56, 72, 90])```)"
   ]
  },
  {
   "cell_type": "code",
   "execution_count": 68,
   "metadata": {},
   "outputs": [
    {
     "name": "stdout",
     "output_type": "stream",
     "text": [
      "[[  1.   2.   3.   4.   5.   6.   7.   8.   9.  10.]\n",
      " [  2.   4.   6.   8.  10.  12.  14.  16.  18.  20.]\n",
      " [  3.   6.   9.  12.  15.  18.  21.  24.  27.  30.]\n",
      " [  4.   8.  12.  16.  20.  24.  28.  32.  36.  40.]\n",
      " [  5.  10.  15.  20.  25.  30.  35.  40.  45.  50.]\n",
      " [  6.  12.  18.  24.  30.  36.  42.  48.  54.  60.]\n",
      " [  7.  14.  21.  28.  35.  42.  49.  56.  63.  70.]\n",
      " [  8.  16.  24.  32.  40.  48.  56.  64.  72.  80.]\n",
      " [  9.  18.  27.  36.  45.  54.  63.  72.  81.  90.]\n",
      " [ 10.  20.  30.  40.  50.  60.  70.  80.  90. 100.]]\n",
      "Trace:  385.0\n",
      "Antidiagonal:  [10. 18. 24. 28. 30. 30. 28. 24. 18. 10.]\n",
      "diagonal w offset:  [ 2.  6. 12. 20. 30. 42. 56. 72. 90.]\n"
     ]
    }
   ],
   "source": [
    "m = np.fromfunction(lambda i, j: (i+1)*(j+1), (10, 10))\n",
    "print(m)\n",
    "print(\"Trace: \", np.trace(m))\n",
    "ant_diag = np.fliplr(m).diagonal()\n",
    "print(\"Antidiagonal: \", ant_diag)\n",
    "m_ = m[1:,:]\n",
    "off_diag = m_.diagonal()\n",
    "print(\"diagonal w offset: \", off_diag)"
   ]
  },
  {
   "cell_type": "markdown",
   "metadata": {},
   "source": [
    "6\\. Use broadcasting to create a grid of distances\n",
    "\n",
    "Route 66 crosses the following cities in the US: Chicago, Springfield, Saint-Louis, Tulsa, Oklahoma City, Amarillo, Santa Fe, Albuquerque, Flagstaff, Los Angeles\n",
    "The corresponding positions in miles are: 0, 198, 303, 736, 871, 1175, 1475, 1544, 1913, 2448\n",
    "\n",
    "  * Construct a 2D grid of distances among each city along Route 66\n",
    "  * Convert that in km (those savages...)"
   ]
  },
  {
   "cell_type": "code",
   "execution_count": 81,
   "metadata": {},
   "outputs": [
    {
     "name": "stdout",
     "output_type": "stream",
     "text": [
      "[[   0  316  484 1177 1393 1880 2360 2470 3060 3916]\n",
      " [ 316    0  168  860 1076 1563 2043 2153 2744 3600]\n",
      " [ 484  168    0  692  908 1395 1875 1985 2576 3432]\n",
      " [1177  860  692    0  216  702 1182 1292 1883 2739]\n",
      " [1393 1076  908  216    0  486  966 1076 1667 2523]\n",
      " [1880 1563 1395  702  486    0  480  590 1180 2036]\n",
      " [2360 2043 1875 1182  966  480    0  110  700 1556]\n",
      " [2470 2153 1985 1292 1076  590  110    0  590 1446]\n",
      " [3060 2744 2576 1883 1667 1180  700  590    0  856]\n",
      " [3916 3600 3432 2739 2523 2036 1556 1446  856    0]]\n"
     ]
    }
   ],
   "source": [
    "positions = np.array([0, 198, 303, 736, 871, 1175, 1475, 1544, 1913, 2448])\n",
    "grid = np.tile(positions, (len(positions), 1)).T\n",
    "for i in range(len(positions)):\n",
    "    grid[:,i] = abs(grid[:,i] - np.ones(len(positions))*positions[i])*1.6\n",
    "print(grid)"
   ]
  },
  {
   "cell_type": "markdown",
   "metadata": {},
   "source": [
    "7\\. Prime numbers sieve: compute the prime numbers in the 0-N (N=99 to start with) range with a sieve (mask).\n",
    "  * Constract a shape (100,) boolean array, the mask\n",
    "  * Identify the multiples of each number starting from 2 and set accordingly the corresponding mask element\n",
    "  * Apply the mask to obtain an array of ordered prime numbers\n",
    "  * Check the performances (timeit); how does it scale with N?\n",
    "  * Implement the optimization suggested in the [sieve of Eratosthenes](https://en.wikipedia.org/wiki/Sieve_of_Eratosthenes)"
   ]
  },
  {
   "cell_type": "code",
   "execution_count": 122,
   "metadata": {},
   "outputs": [
    {
     "data": {
      "image/png": "[encoded data removed]",
      "text/plain": [
       "<Figure size 432x288 with 1 Axes>"
      ]
     },
     "metadata": {
      "needs_background": "light"
     },
     "output_type": "display_data"
    }
   ],
   "source": [
    "import time\n",
    "def prime_check(N):\n",
    "    start_time = time.time()\n",
    "    mask = np.full((N,), True)\n",
    "    mask[0] = False\n",
    "    mask[1] = False\n",
    "    for i in range(2,N):\n",
    "        for j in range(i-2):\n",
    "            if(i%(2+j)==0):\n",
    "                  mask[i] = False\n",
    "    return time.time() - start_time \n",
    "\n",
    "Ns = [10*i for i in range(1,80)]\n",
    "times = []\n",
    "for N in Ns:\n",
    "      times.append(prime_check(N))\n",
    "        \n",
    "plt.plot(Ns, times)\n",
    "plt.show()"
   ]
  },
  {
   "cell_type": "markdown",
   "metadata": {},
   "source": [
    "The growth seems to be $O(N^2)$"
   ]
  },
  {
   "cell_type": "code",
   "execution_count": 128,
   "metadata": {},
   "outputs": [
    {
     "data": {
      "image/png": "[encoded data removed]",
      "text/plain": [
       "<Figure size 432x288 with 1 Axes>"
      ]
     },
     "metadata": {
      "needs_background": "light"
     },
     "output_type": "display_data"
    }
   ],
   "source": [
    "def better_prime_check(N):\n",
    "    start_time = time.time()\n",
    "    mask = np.full((N,), True)\n",
    "    mask[0] = False\n",
    "    mask[1] = False\n",
    "    for i in range(2,N):\n",
    "        if(mask[i]==True):\n",
    "            mask[i**2::i] = False\n",
    "    return time.time() - start_time \n",
    "\n",
    "Ns = [10*i for i in range(1,200)]\n",
    "times = []\n",
    "for N in Ns:\n",
    "      times.append(better_prime_check(N))\n",
    "        \n",
    "plt.plot(Ns, times)\n",
    "plt.show()"
   ]
  },
  {
   "cell_type": "markdown",
   "metadata": {},
   "source": [
    "Instead, this time we have linear growth, $O(N)$"
   ]
  },
  {
   "cell_type": "markdown",
   "metadata": {},
   "source": [
    "**N.B. the following exercises are meant to be solved only if you are familiar with the numpy random library. If not you can skip them (postponed for one of the next exercise sessions)**\n"
   ]
  },
  {
   "cell_type": "markdown",
   "metadata": {},
   "source": [
    "8\\. Diffusion using random walk\n",
    "\n",
    "Consider a simple random walk process: at each step in time, a walker jumps right or left (+1 or -1) with equal probability. The goal is to find the typical distance from the origin of a random walker after a given amount of time. \n",
    "To do that, let's simulate many walkers and create a 2D array with each walker as a raw and the actual time evolution as columns\n",
    "\n",
    "  * Take 1000 walkers and let them walk for 200 steps\n",
    "  * Use randint to create a 2D array of size walkers x steps with values -1 or 1\n",
    "  * Build the actual walking distances for each walker (i.e. another 2D array \"summing on each raw\")\n",
    "  * Take the square of that 2D array (elementwise)\n",
    "  * Compute the mean of the squared distances at each step (i.e. the mean along the columns)\n",
    "  * Plot the average distances (sqrt(distance\\*\\*2)) as a function of time (step)\n",
    "  \n",
    "Did you get what you expected?"
   ]
  },
  {
   "cell_type": "markdown",
   "metadata": {},
   "source": [
    "9\\. Analyze a data file \n",
    "  * Download the population of hares, lynxes and carrots at the beginning of the last century.\n",
    "    ```python\n",
    "    ! wget https://www.dropbox.com/s/3vigxoqayo389uc/populations.txt\n",
    "    ```\n",
    "\n",
    "  * Check the content by looking within the file\n",
    "  * Load the data (use an appropriate numpy method) into a 2D array\n",
    "  * Create arrays out of the columns, the arrays being (in order): *year*, *hares*, *lynxes*, *carrots* \n",
    "  * Plot the 3 populations over the years\n",
    "  * Compute the main statistical properties of the dataset (mean, std, correlations, etc.)\n",
    "  * Which species has the highest population each year?\n",
    "\n",
    "Do you feel there is some evident correlation here? [Studies](https://www.enr.gov.nt.ca/en/services/lynx/lynx-snowshoe-hare-cycle) tend to believe so."
   ]
  },
  {
   "cell_type": "code",
   "execution_count": null,
   "metadata": {},
   "outputs": [],
   "source": []
  }
 ],
 "metadata": {
  "hide_input": false,
  "kernelspec": {
   "display_name": "Python 3 (ipykernel)",
   "language": "python",
   "name": "python3"
  },
  "language_info": {
   "codemirror_mode": {
    "name": "ipython",
    "version": 3
   },
   "file_extension": ".py",
   "mimetype": "text/x-python",
   "name": "python",
   "nbconvert_exporter": "python",
   "pygments_lexer": "ipython3",
   "version": "3.9.5"
  }
 },
 "nbformat": 4,
 "nbformat_minor": 2
}
